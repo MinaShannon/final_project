{
 "cells": [
  {
   "cell_type": "code",
   "execution_count": 1,
   "metadata": {},
   "outputs": [],
   "source": [
    "import pandas as pd\n",
    "import tensorflow as tf\n",
    "import tensorflow_probability as tfp\n",
    "from arch.unitroot import ADF\n",
    "import matplotlib.pyplot as plt\n",
    "from statsmodels.tsa.arima_model import ARIMA, ARMAResults\n",
    "import numpy as np"
   ]
  },
  {
   "cell_type": "code",
   "execution_count": 2,
   "metadata": {},
   "outputs": [],
   "source": [
    "snp=pd.read_csv(\"./GSPC.csv\")\n",
    "fed_funds_rate=pd.read_csv(\"./FEDFUNDS.csv\")"
   ]
  },
  {
   "cell_type": "code",
   "execution_count": 3,
   "metadata": {},
   "outputs": [
    {
     "data": {
      "text/html": [
       "<div>\n",
       "<style scoped>\n",
       "    .dataframe tbody tr th:only-of-type {\n",
       "        vertical-align: middle;\n",
       "    }\n",
       "\n",
       "    .dataframe tbody tr th {\n",
       "        vertical-align: top;\n",
       "    }\n",
       "\n",
       "    .dataframe thead th {\n",
       "        text-align: right;\n",
       "    }\n",
       "</style>\n",
       "<table border=\"1\" class=\"dataframe\">\n",
       "  <thead>\n",
       "    <tr style=\"text-align: right;\">\n",
       "      <th></th>\n",
       "      <th>date</th>\n",
       "      <th>Close</th>\n",
       "      <th>Close_diff</th>\n",
       "      <th>monthly_returns</th>\n",
       "      <th>fed_funds</th>\n",
       "      <th>return_lag_1month</th>\n",
       "      <th>return_lag_2month</th>\n",
       "      <th>return_lag_3month</th>\n",
       "      <th>return_lag_4month</th>\n",
       "      <th>fed_funds_lag_1month</th>\n",
       "      <th>fed_funds_lag_2month</th>\n",
       "      <th>fed_funds_lag_3month</th>\n",
       "      <th>fed_funds_lag_4month</th>\n",
       "    </tr>\n",
       "  </thead>\n",
       "  <tbody>\n",
       "    <tr>\n",
       "      <th>0</th>\n",
       "      <td>2001-11-01</td>\n",
       "      <td>1139.449951</td>\n",
       "      <td>NaN</td>\n",
       "      <td>NaN</td>\n",
       "      <td>2.09</td>\n",
       "      <td>NaN</td>\n",
       "      <td>NaN</td>\n",
       "      <td>NaN</td>\n",
       "      <td>NaN</td>\n",
       "      <td>NaN</td>\n",
       "      <td>NaN</td>\n",
       "      <td>NaN</td>\n",
       "      <td>NaN</td>\n",
       "    </tr>\n",
       "    <tr>\n",
       "      <th>1</th>\n",
       "      <td>2001-12-01</td>\n",
       "      <td>1148.079956</td>\n",
       "      <td>8.630005</td>\n",
       "      <td>0.007574</td>\n",
       "      <td>1.82</td>\n",
       "      <td>NaN</td>\n",
       "      <td>NaN</td>\n",
       "      <td>NaN</td>\n",
       "      <td>NaN</td>\n",
       "      <td>2.09</td>\n",
       "      <td>NaN</td>\n",
       "      <td>NaN</td>\n",
       "      <td>NaN</td>\n",
       "    </tr>\n",
       "    <tr>\n",
       "      <th>2</th>\n",
       "      <td>2002-01-01</td>\n",
       "      <td>1130.199951</td>\n",
       "      <td>-17.880005</td>\n",
       "      <td>-0.015574</td>\n",
       "      <td>1.73</td>\n",
       "      <td>0.007574</td>\n",
       "      <td>NaN</td>\n",
       "      <td>NaN</td>\n",
       "      <td>NaN</td>\n",
       "      <td>1.82</td>\n",
       "      <td>2.09</td>\n",
       "      <td>NaN</td>\n",
       "      <td>NaN</td>\n",
       "    </tr>\n",
       "    <tr>\n",
       "      <th>3</th>\n",
       "      <td>2002-02-01</td>\n",
       "      <td>1106.729980</td>\n",
       "      <td>-23.469971</td>\n",
       "      <td>-0.020766</td>\n",
       "      <td>1.74</td>\n",
       "      <td>-0.015574</td>\n",
       "      <td>0.007574</td>\n",
       "      <td>NaN</td>\n",
       "      <td>NaN</td>\n",
       "      <td>1.73</td>\n",
       "      <td>1.82</td>\n",
       "      <td>2.09</td>\n",
       "      <td>NaN</td>\n",
       "    </tr>\n",
       "    <tr>\n",
       "      <th>4</th>\n",
       "      <td>2002-03-01</td>\n",
       "      <td>1147.390015</td>\n",
       "      <td>40.660035</td>\n",
       "      <td>0.036739</td>\n",
       "      <td>1.73</td>\n",
       "      <td>-0.020766</td>\n",
       "      <td>-0.015574</td>\n",
       "      <td>0.007574</td>\n",
       "      <td>NaN</td>\n",
       "      <td>1.74</td>\n",
       "      <td>1.73</td>\n",
       "      <td>1.82</td>\n",
       "      <td>2.09</td>\n",
       "    </tr>\n",
       "  </tbody>\n",
       "</table>\n",
       "</div>"
      ],
      "text/plain": [
       "         date        Close  Close_diff  monthly_returns  fed_funds  \\\n",
       "0  2001-11-01  1139.449951         NaN              NaN       2.09   \n",
       "1  2001-12-01  1148.079956    8.630005         0.007574       1.82   \n",
       "2  2002-01-01  1130.199951  -17.880005        -0.015574       1.73   \n",
       "3  2002-02-01  1106.729980  -23.469971        -0.020766       1.74   \n",
       "4  2002-03-01  1147.390015   40.660035         0.036739       1.73   \n",
       "\n",
       "   return_lag_1month  return_lag_2month  return_lag_3month  return_lag_4month  \\\n",
       "0                NaN                NaN                NaN                NaN   \n",
       "1                NaN                NaN                NaN                NaN   \n",
       "2           0.007574                NaN                NaN                NaN   \n",
       "3          -0.015574           0.007574                NaN                NaN   \n",
       "4          -0.020766          -0.015574           0.007574                NaN   \n",
       "\n",
       "   fed_funds_lag_1month  fed_funds_lag_2month  fed_funds_lag_3month  \\\n",
       "0                   NaN                   NaN                   NaN   \n",
       "1                  2.09                   NaN                   NaN   \n",
       "2                  1.82                  2.09                   NaN   \n",
       "3                  1.73                  1.82                  2.09   \n",
       "4                  1.74                  1.73                  1.82   \n",
       "\n",
       "   fed_funds_lag_4month  \n",
       "0                   NaN  \n",
       "1                   NaN  \n",
       "2                   NaN  \n",
       "3                   NaN  \n",
       "4                  2.09  "
      ]
     },
     "execution_count": 3,
     "metadata": {},
     "output_type": "execute_result"
    }
   ],
   "source": [
    "monthlyreturns=snp.Close.pct_change()\n",
    "analysis_frame=pd.DataFrame({\n",
    "    \"date\":snp.Date,\n",
    "    \"Close\":snp.Close,\n",
    "    \"Close_diff\":snp.Close.diff(),\n",
    "    \"monthly_returns\":monthlyreturns,\n",
    "    \"fed_funds\":fed_funds_rate.FEDFUNDS,\n",
    "    \"return_lag_1month\":monthlyreturns.shift(),\n",
    "    \"return_lag_2month\":monthlyreturns.shift(2),\n",
    "    \"return_lag_3month\":monthlyreturns.shift(3),\n",
    "    \"return_lag_4month\":monthlyreturns.shift(4),\n",
    "    \"fed_funds_lag_1month\":fed_funds_rate.FEDFUNDS.shift(),\n",
    "    \"fed_funds_lag_2month\":fed_funds_rate.FEDFUNDS.shift(2),\n",
    "    \"fed_funds_lag_3month\":fed_funds_rate.FEDFUNDS.shift(3),\n",
    "    \"fed_funds_lag_4month\":fed_funds_rate.FEDFUNDS.shift(4),\n",
    "})\n",
    "analysis_frame_final=analysis_frame\n",
    "analysis_frame_final.head()"
   ]
  },
  {
   "cell_type": "code",
   "execution_count": 4,
   "metadata": {},
   "outputs": [
    {
     "data": {
      "text/plain": [
       "Text(0, 0.5, 'S&P 500 Index')"
      ]
     },
     "execution_count": 4,
     "metadata": {},
     "output_type": "execute_result"
    },
    {
     "data": {
      "image/png": "[encoded data removed]",
      "text/plain": [
       "<Figure size 432x288 with 1 Axes>"
      ]
     },
     "metadata": {
      "needs_background": "light"
     },
     "output_type": "display_data"
    }
   ],
   "source": [
    "plt.plot(snp.Date,snp.Close)\n",
    "plt.ylabel(\"S&P 500 Index\")"
   ]
  },
  {
   "cell_type": "code",
   "execution_count": 5,
   "metadata": {
    "scrolled": false
   },
   "outputs": [
    {
     "data": {
      "text/plain": [
       "Text(0, 0.5, 'Monthly Returns')"
      ]
     },
     "execution_count": 5,
     "metadata": {},
     "output_type": "execute_result"
    },
    {
     "data": {
      "image/png": "[encoded data removed]",
      "text/plain": [
       "<Figure size 432x288 with 1 Axes>"
      ]
     },
     "metadata": {
      "needs_background": "light"
     },
     "output_type": "display_data"
    }
   ],
   "source": [
    "plt.plot(analysis_frame.date,analysis_frame.monthly_returns)\n",
    "plt.ylabel(\"Monthly Returns\")"
   ]
  },
  {
   "cell_type": "code",
   "execution_count": 6,
   "metadata": {},
   "outputs": [
    {
     "data": {
      "text/plain": [
       "Text(0, 0.5, 'Differenced Index Values')"
      ]
     },
     "execution_count": 6,
     "metadata": {},
     "output_type": "execute_result"
    },
    {
     "data": {
      "image/png": "[encoded data removed]",
      "text/plain": [
       "<Figure size 432x288 with 1 Axes>"
      ]
     },
     "metadata": {
      "needs_background": "light"
     },
     "output_type": "display_data"
    }
   ],
   "source": [
    "plt.plot(analysis_frame.date,analysis_frame.Close_diff)\n",
    "plt.ylabel(\"Differenced Index Values\")"
   ]
  },
  {
   "cell_type": "code",
   "execution_count": 7,
   "metadata": {},
   "outputs": [
    {
     "data": {
      "text/plain": [
       "Text(0, 0.5, 'Federal Funds Rate')"
      ]
     },
     "execution_count": 7,
     "metadata": {},
     "output_type": "execute_result"
    },
    {
     "data": {
      "image/png": "[encoded data removed]",
      "text/plain": [
       "<Figure size 432x288 with 1 Axes>"
      ]
     },
     "metadata": {
      "needs_background": "light"
     },
     "output_type": "display_data"
    }
   ],
   "source": [
    "plt.plot(analysis_frame.date,analysis_frame.fed_funds)\n",
    "plt.ylabel(\"Federal Funds Rate\")"
   ]
  },
  {
   "cell_type": "code",
   "execution_count": 8,
   "metadata": {},
   "outputs": [
    {
     "data": {
      "text/html": [
       "<table class=\"simpletable\">\n",
       "<caption>Augmented Dickey-Fuller Results</caption>\n",
       "<tr>\n",
       "  <td>Test Statistic</td>    <td>-5.183</td>\n",
       "</tr>\n",
       "<tr>\n",
       "  <td>P-value</td>            <td>0.000</td>\n",
       "</tr>\n",
       "<tr>\n",
       "  <td>Lags</td>                   <td>6</td>\n",
       "</tr>\n",
       "</table><br/><br/>Trend: Constant and Linear Time Trend<br/>Critical Values: -4.00 (1%), -3.43 (5%), -3.14 (10%)<br/>Null Hypothesis: The process contains a unit root.<br/>Alternative Hypothesis: The process is weakly stationary."
      ],
      "text/plain": [
       "<class 'statsmodels.iolib.summary.Summary'>\n",
       "\"\"\"\n",
       "   Augmented Dickey-Fuller Results   \n",
       "=====================================\n",
       "Test Statistic                 -5.183\n",
       "P-value                         0.000\n",
       "Lags                                6\n",
       "-------------------------------------\n",
       "\n",
       "Trend: Constant and Linear Time Trend\n",
       "Critical Values: -4.00 (1%), -3.43 (5%), -3.14 (10%)\n",
       "Null Hypothesis: The process contains a unit root.\n",
       "Alternative Hypothesis: The process is weakly stationary.\n",
       "\"\"\""
      ]
     },
     "execution_count": 8,
     "metadata": {},
     "output_type": "execute_result"
    }
   ],
   "source": [
    "adf=ADF(analysis_frame_final.Close_diff.dropna(), 6, trend='ct', method='BIC',low_memory=True)\n",
    "adf.summary()"
   ]
  },
  {
   "cell_type": "code",
   "execution_count": 9,
   "metadata": {},
   "outputs": [],
   "source": [
    "num_forecast_steps = 12\n",
    "returns_training_data = analysis_frame_final.Close[:-num_forecast_steps]\n",
    "def build_model(observed_time_series):\n",
    "    autoregressive = tfp.sts.Autoregressive(\n",
    "      order=4,\n",
    "      observed_time_series=observed_time_series, name='autoregressive')\n",
    "    model = tfp.sts.Sum([autoregressive],\n",
    "                       observed_time_series=observed_time_series)\n",
    "    return model"
   ]
  },
  {
   "cell_type": "code",
   "execution_count": 10,
   "metadata": {},
   "outputs": [
    {
     "name": "stderr",
     "output_type": "stream",
     "text": [
      "WARNING: Logging before flag parsing goes to stderr.\n",
      "W0822 15:38:36.930749 20412 deprecation.py:323] From C:\\ProgramData\\Anaconda3\\lib\\site-packages\\tensorflow_probability\\python\\internal\\distribution_util.py:1846: add_dispatch_support.<locals>.wrapper (from tensorflow.python.ops.array_ops) is deprecated and will be removed in a future version.\n",
      "Instructions for updating:\n",
      "Use tf.where in 2.0, which has the same broadcast rule as np.where\n"
     ]
    }
   ],
   "source": [
    "tf.reset_default_graph()\n",
    "returns_model = build_model(returns_training_data)\n",
    "with tf.variable_scope('sts_elbo', reuse=tf.AUTO_REUSE):\n",
    "  elbo_loss, variational_posteriors = tfp.sts.build_factored_variational_loss(\n",
    "      returns_model, returns_training_data)\n",
    "train_vi = tf.train.AdamOptimizer(0.05).minimize(elbo_loss)"
   ]
  },
  {
   "cell_type": "code",
   "execution_count": 11,
   "metadata": {},
   "outputs": [
    {
     "name": "stdout",
     "output_type": "stream",
     "text": [
      "step 0 -ELBO 4717531.861497898\n",
      "step 20 -ELBO 277414.7736444721\n",
      "step 40 -ELBO 87018.14151360364\n",
      "step 60 -ELBO 30560.955225599093\n",
      "step 80 -ELBO 43393.55473101261\n",
      "step 100 -ELBO 30593.676577957704\n",
      "step 120 -ELBO 27686.633468935914\n",
      "step 140 -ELBO 28043.47135914667\n",
      "step 160 -ELBO 25978.749736372523\n",
      "step 180 -ELBO 24884.091116236592\n",
      "step 200 -ELBO 25536.611556554686\n",
      "step 220 -ELBO 25258.072118656168\n",
      "step 240 -ELBO 22378.62104721938\n",
      "step 260 -ELBO 21905.64018806396\n",
      "step 280 -ELBO 21200.174294063676\n",
      "step 300 -ELBO 20650.512677689218\n",
      "step 320 -ELBO 19855.982804605585\n",
      "step 340 -ELBO 18741.450405093732\n",
      "step 360 -ELBO 18541.594302692323\n",
      "step 380 -ELBO 17691.386888103058\n",
      "step 400 -ELBO 17232.84530664171\n",
      "step 420 -ELBO 16886.83948959309\n",
      "step 440 -ELBO 16240.908352305652\n",
      "step 460 -ELBO 15655.747630020514\n",
      "step 480 -ELBO 15373.266674861095\n",
      "step 500 -ELBO 14984.733828077984\n",
      "step 520 -ELBO 14308.389000643843\n",
      "step 540 -ELBO 14021.047233749903\n",
      "step 560 -ELBO 13655.337638677078\n",
      "step 580 -ELBO 13135.67095990153\n",
      "step 600 -ELBO 13075.748753937192\n",
      "step 620 -ELBO 12802.985464249303\n",
      "step 640 -ELBO 12159.29897904093\n",
      "step 660 -ELBO 12700.036603751128\n",
      "step 680 -ELBO 11748.879520652032\n",
      "step 700 -ELBO 11215.835290768697\n",
      "step 720 -ELBO 11096.754131138856\n",
      "step 740 -ELBO 10847.894719251919\n",
      "step 760 -ELBO 10748.37545238319\n",
      "step 780 -ELBO 10723.624164083369\n",
      "step 800 -ELBO 10054.449807058016\n",
      "step 820 -ELBO 9737.540558986308\n",
      "step 840 -ELBO 9648.012187391989\n",
      "step 860 -ELBO 9731.778821511924\n",
      "step 880 -ELBO 9243.006452559555\n",
      "step 900 -ELBO 9068.110402469065\n",
      "step 920 -ELBO 9033.8353734232\n",
      "step 940 -ELBO 8666.952814128726\n",
      "step 960 -ELBO 8964.266244785844\n",
      "step 980 -ELBO 8535.65497872635\n",
      "step 1000 -ELBO 8119.023141267182\n",
      "step 1020 -ELBO 8168.892502789066\n",
      "step 1040 -ELBO 7911.718371563869\n",
      "step 1060 -ELBO 7762.402672324634\n",
      "step 1080 -ELBO 7830.172559101391\n",
      "step 1100 -ELBO 7716.762055051522\n",
      "step 1120 -ELBO 7449.099819694198\n",
      "step 1140 -ELBO 7656.081708656685\n",
      "step 1160 -ELBO 7348.12362574468\n",
      "step 1180 -ELBO 7423.724838069079\n",
      "step 1200 -ELBO 7088.985970022077\n",
      "step 1220 -ELBO 6866.175698522967\n",
      "step 1240 -ELBO 6842.4478554350935\n",
      "step 1260 -ELBO 6780.711248487651\n",
      "step 1280 -ELBO 6604.3455784133885\n",
      "step 1300 -ELBO 6711.732354891693\n",
      "step 1320 -ELBO 6461.51082406193\n",
      "step 1340 -ELBO 6612.210669836314\n",
      "step 1360 -ELBO 6421.994464743315\n",
      "step 1380 -ELBO 6148.108222581654\n",
      "step 1400 -ELBO 6267.617097601496\n",
      "step 1420 -ELBO 6084.550965474944\n",
      "step 1440 -ELBO 6218.654704238753\n",
      "step 1460 -ELBO 6052.456274062064\n",
      "step 1480 -ELBO 5827.143051793172\n",
      "step 1500 -ELBO 5773.012324313969\n"
     ]
    }
   ],
   "source": [
    "num_variational_steps = 1501 \n",
    "\n",
    "with tf.Session() as sess:\n",
    "  sess.run(tf.global_variables_initializer())\n",
    "\n",
    "  for i in range(num_variational_steps):\n",
    "    _, elbo_ = sess.run((train_vi, elbo_loss))\n",
    "    if i % 20 == 0:\n",
    "      print(\"step {} -ELBO {}\".format(i, elbo_))\n",
    "\n",
    "  q_samples_returns_ = sess.run({k: q.sample(50)\n",
    "                                for k, q in variational_posteriors.items()})"
   ]
  },
  {
   "cell_type": "code",
   "execution_count": 12,
   "metadata": {},
   "outputs": [
    {
     "name": "stdout",
     "output_type": "stream",
     "text": [
      "Inferred parameters:\n",
      "observation_noise_scale: 5.539208425578182 +- 0.03418794756634673\n",
      "autoregressive/_coefficients: [ 0.95798646 -0.0725318   0.84553502 -0.73525966] +- [0.00151163 0.00349788 0.00262159 0.0020164 ]\n",
      "autoregressive/_level_scale: 4.241136246174441 +- 0.021236417506736903\n"
     ]
    }
   ],
   "source": [
    "print(\"Inferred parameters:\")\n",
    "for param in returns_model.parameters:\n",
    "  print(\"{}: {} +- {}\".format(param.name,\n",
    "                              np.mean(q_samples_returns_[param.name], axis=0),\n",
    "                              np.std(q_samples_returns_[param.name], axis=0)))"
   ]
  },
  {
   "cell_type": "code",
   "execution_count": 13,
   "metadata": {},
   "outputs": [],
   "source": [
    "returns_one_step_dist = tfp.sts.one_step_predictive(\n",
    "    returns_model,\n",
    "    observed_time_series=returns_training_data,\n",
    "    parameter_samples=q_samples_returns_)\n",
    "\n",
    "with tf.Session() as sess:\n",
    "  returns_one_step_mean = sess.run(returns_one_step_dist.mean())\n",
    "  returns_one_step_scale = sess.run(returns_one_step_dist.stddev())"
   ]
  },
  {
   "cell_type": "code",
   "execution_count": 14,
   "metadata": {
    "scrolled": true
   },
   "outputs": [],
   "source": [
    "mape=100*sum(np.abs((analysis_frame_final.Close[:-num_forecast_steps]-returns_one_step_mean)/analysis_frame_final.Close[:-num_forecast_steps]))/196"
   ]
  },
  {
   "cell_type": "code",
   "execution_count": 15,
   "metadata": {},
   "outputs": [
    {
     "data": {
      "text/plain": [
       "3.678248774665813"
      ]
     },
     "execution_count": 15,
     "metadata": {},
     "output_type": "execute_result"
    }
   ],
   "source": [
    "mape"
   ]
  },
  {
   "cell_type": "code",
   "execution_count": 16,
   "metadata": {},
   "outputs": [
    {
     "data": {
      "text/plain": [
       "62.66715407373838"
      ]
     },
     "execution_count": 16,
     "metadata": {},
     "output_type": "execute_result"
    }
   ],
   "source": [
    "sq_diff=(analysis_frame_final.Close[:-num_forecast_steps]-returns_one_step_mean)**2\n",
    "rmse=np.sqrt(sq_diff.sum()/196)\n",
    "rmse"
   ]
  },
  {
   "cell_type": "code",
   "execution_count": 17,
   "metadata": {},
   "outputs": [
    {
     "data": {
      "text/plain": [
       "8.683631754716979"
      ]
     },
     "execution_count": 17,
     "metadata": {},
     "output_type": "execute_result"
    }
   ],
   "source": [
    "analysis_frame_final.Close_diff.mean()"
   ]
  },
  {
   "cell_type": "code",
   "execution_count": 18,
   "metadata": {},
   "outputs": [],
   "source": [
    "statistical_model=ARIMA(analysis_frame_final.Close, (2,1,2), dates=analysis_frame_final.date, freq='MS')"
   ]
  },
  {
   "cell_type": "code",
   "execution_count": 19,
   "metadata": {},
   "outputs": [],
   "source": [
    "model_fit=statistical_model.fit()\n"
   ]
  },
  {
   "cell_type": "code",
   "execution_count": 20,
   "metadata": {},
   "outputs": [
    {
     "data": {
      "text/html": [
       "<table class=\"simpletable\">\n",
       "<caption>ARIMA Model Results</caption>\n",
       "<tr>\n",
       "  <th>Dep. Variable:</th>      <td>D.Close</td>     <th>  No. Observations:  </th>    <td>212</td>   \n",
       "</tr>\n",
       "<tr>\n",
       "  <th>Model:</th>            <td>ARIMA(2, 2)</td>   <th>  Log Likelihood     </th> <td>-1172.562</td>\n",
       "</tr>\n",
       "<tr>\n",
       "  <th>Method:</th>             <td>css-mle</td>     <th>  S.D. of innovations</th>  <td>60.759</td>  \n",
       "</tr>\n",
       "<tr>\n",
       "  <th>Date:</th>          <td>Thu, 22 Aug 2019</td> <th>  AIC                </th> <td>2357.125</td> \n",
       "</tr>\n",
       "<tr>\n",
       "  <th>Time:</th>              <td>15:40:29</td>     <th>  BIC                </th> <td>2377.264</td> \n",
       "</tr>\n",
       "<tr>\n",
       "  <th>Sample:</th>           <td>11-01-2001</td>    <th>  HQIC               </th> <td>2365.265</td> \n",
       "</tr>\n",
       "<tr>\n",
       "  <th></th>                 <td>- 07-01-2019</td>   <th>                     </th>     <td> </td>    \n",
       "</tr>\n",
       "</table>\n",
       "<table class=\"simpletable\">\n",
       "<tr>\n",
       "        <td></td>           <th>coef</th>     <th>std err</th>      <th>z</th>      <th>P>|z|</th>  <th>[0.025</th>    <th>0.975]</th>  \n",
       "</tr>\n",
       "<tr>\n",
       "  <th>const</th>         <td>    8.9076</td> <td>    4.593</td> <td>    1.940</td> <td> 0.054</td> <td>   -0.094</td> <td>   17.909</td>\n",
       "</tr>\n",
       "<tr>\n",
       "  <th>ar.L1.D.Close</th> <td>    1.9697</td> <td>    0.020</td> <td>  100.182</td> <td> 0.000</td> <td>    1.931</td> <td>    2.008</td>\n",
       "</tr>\n",
       "<tr>\n",
       "  <th>ar.L2.D.Close</th> <td>   -0.9960</td> <td>    0.017</td> <td>  -57.866</td> <td> 0.000</td> <td>   -1.030</td> <td>   -0.962</td>\n",
       "</tr>\n",
       "<tr>\n",
       "  <th>ma.L1.D.Close</th> <td>   -1.9693</td> <td>    0.027</td> <td>  -72.607</td> <td> 0.000</td> <td>   -2.022</td> <td>   -1.916</td>\n",
       "</tr>\n",
       "<tr>\n",
       "  <th>ma.L2.D.Close</th> <td>    0.9978</td> <td>    0.026</td> <td>   38.555</td> <td> 0.000</td> <td>    0.947</td> <td>    1.049</td>\n",
       "</tr>\n",
       "</table>\n",
       "<table class=\"simpletable\">\n",
       "<caption>Roots</caption>\n",
       "<tr>\n",
       "    <td></td>   <th>            Real</th>  <th>         Imaginary</th> <th>         Modulus</th>  <th>        Frequency</th>\n",
       "</tr>\n",
       "<tr>\n",
       "  <th>AR.1</th> <td>           0.9889</td> <td>          -0.1619j</td> <td>           1.0020</td> <td>          -0.0258</td>\n",
       "</tr>\n",
       "<tr>\n",
       "  <th>AR.2</th> <td>           0.9889</td> <td>          +0.1619j</td> <td>           1.0020</td> <td>           0.0258</td>\n",
       "</tr>\n",
       "<tr>\n",
       "  <th>MA.1</th> <td>           0.9868</td> <td>          -0.1684j</td> <td>           1.0011</td> <td>          -0.0269</td>\n",
       "</tr>\n",
       "<tr>\n",
       "  <th>MA.2</th> <td>           0.9868</td> <td>          +0.1684j</td> <td>           1.0011</td> <td>           0.0269</td>\n",
       "</tr>\n",
       "</table>"
      ],
      "text/plain": [
       "<class 'statsmodels.iolib.summary.Summary'>\n",
       "\"\"\"\n",
       "                             ARIMA Model Results                              \n",
       "==============================================================================\n",
       "Dep. Variable:                D.Close   No. Observations:                  212\n",
       "Model:                    ARIMA(2, 2)   Log Likelihood               -1172.562\n",
       "Method:                       css-mle   S.D. of innovations             60.759\n",
       "Date:                Thu, 22 Aug 2019   AIC                           2357.125\n",
       "Time:                        15:40:29   BIC                           2377.264\n",
       "Sample:                    11-01-2001   HQIC                          2365.265\n",
       "                         - 07-01-2019                                         \n",
       "=================================================================================\n",
       "                    coef    std err          z      P>|z|      [0.025      0.975]\n",
       "---------------------------------------------------------------------------------\n",
       "const             8.9076      4.593      1.940      0.054      -0.094      17.909\n",
       "ar.L1.D.Close     1.9697      0.020    100.182      0.000       1.931       2.008\n",
       "ar.L2.D.Close    -0.9960      0.017    -57.866      0.000      -1.030      -0.962\n",
       "ma.L1.D.Close    -1.9693      0.027    -72.607      0.000      -2.022      -1.916\n",
       "ma.L2.D.Close     0.9978      0.026     38.555      0.000       0.947       1.049\n",
       "                                    Roots                                    \n",
       "=============================================================================\n",
       "                  Real          Imaginary           Modulus         Frequency\n",
       "-----------------------------------------------------------------------------\n",
       "AR.1            0.9889           -0.1619j            1.0020           -0.0258\n",
       "AR.2            0.9889           +0.1619j            1.0020            0.0258\n",
       "MA.1            0.9868           -0.1684j            1.0011           -0.0269\n",
       "MA.2            0.9868           +0.1684j            1.0011            0.0269\n",
       "-----------------------------------------------------------------------------\n",
       "\"\"\""
      ]
     },
     "execution_count": 20,
     "metadata": {},
     "output_type": "execute_result"
    }
   ],
   "source": [
    "ARMAResults(statistical_model, model_fit.params).summary()"
   ]
  },
  {
   "cell_type": "code",
   "execution_count": 21,
   "metadata": {},
   "outputs": [
    {
     "data": {
      "text/plain": [
       "array([1148.35753283, 1156.98104468, 1138.48933448, 1114.27897486,\n",
       "       1155.59984835, 1083.48897287, 1073.30791099,  994.26981098,\n",
       "        914.34665301,  918.76244661,  816.02685708,  887.97900867,\n",
       "        939.90041759,  882.88583998,  858.91287353,  844.78553954,\n",
       "        852.75122162,  923.71965966,  972.31995868,  984.51892799,\n",
       "       1001.65389936, 1020.62934478, 1009.22388215, 1065.58726508,\n",
       "       1073.77674821, 1128.76574542, 1148.51142512, 1162.54046213,\n",
       "       1143.2632482 , 1123.52530853, 1136.34570234, 1155.88314177,\n",
       "       1115.04677578, 1116.32229951, 1125.46208833, 1139.9347808 ,\n",
       "       1182.86086124, 1220.25609175, 1187.92501203, 1209.39713096,\n",
       "       1184.98062881, 1159.91723732, 1194.20855389, 1193.4149528 ,\n",
       "       1236.42496695, 1222.20465909, 1230.77855824, 1208.85431469,\n",
       "       1252.20971092, 1251.54669677, 1284.44145154, 1285.86469869,\n",
       "       1301.1765934 , 1318.10710728, 1278.05849778, 1279.09988724,\n",
       "       1286.54361982, 1314.90867502, 1348.16120656, 1391.52971162,\n",
       "       1415.1702925 , 1433.58373378, 1454.12119869, 1422.50502084,\n",
       "       1436.61505501, 1498.56732672, 1547.00281705, 1518.90675808,\n",
       "       1469.50209356, 1487.4196063 , 1539.67784583, 1561.44231576,\n",
       "       1491.23470784, 1476.95856413, 1384.75746987, 1334.83017009,\n",
       "       1325.38623285, 1387.70332393, 1401.70258941, 1279.32306146,\n",
       "       1265.88173687, 1281.06401977, 1163.28152552,  963.62280747,\n",
       "        890.33160223,  897.62749263,  820.08806946,  729.22385817,\n",
       "        793.69866228,  870.92491932,  919.67089356,  922.08765465,\n",
       "        993.29633979, 1029.30898735, 1068.69549203, 1050.11791235,\n",
       "       1112.41451418, 1134.20717967, 1094.43808514, 1126.73766028,\n",
       "       1193.32059779, 1211.4629051 , 1113.58599131, 1053.98497101,\n",
       "       1124.59976764, 1070.68098471, 1161.73373847, 1202.38663683,\n",
       "       1197.66327993, 1273.22066413, 1299.70583916, 1338.85318848,\n",
       "       1335.14723145, 1370.94455283, 1350.19230271, 1323.31772031,\n",
       "       1292.74340235, 1216.95034911, 1127.12367668, 1248.5539186 ,\n",
       "       1241.35194142, 1251.65511768, 1306.91332838, 1361.12314945,\n",
       "       1405.23816773, 1395.97876875, 1309.33101625, 1363.27803266,\n",
       "       1382.56915171, 1412.19786251, 1448.8192753 , 1422.39816941,\n",
       "       1428.62451008, 1440.75532829, 1515.0889727 , 1533.53488235,\n",
       "       1589.91992003, 1619.72501326, 1654.00777548, 1629.87387031,\n",
       "       1709.91520148, 1656.49874147, 1704.61540948, 1779.02271358,\n",
       "       1827.2871726 , 1868.52285204, 1800.41893149, 1875.58221174,\n",
       "       1886.27172908, 1895.55805664, 1933.00246315, 1967.53493818,\n",
       "       1935.51084078, 2006.50436229, 1973.32501191, 2017.6599997 ,\n",
       "       2066.12361866, 2056.4192702 , 1991.39365672, 2101.14056565,\n",
       "       2064.36828579, 2082.43914996, 2105.15354318, 2061.60966051,\n",
       "       2103.80922473, 1972.79601648, 1921.7402681 , 2083.60527347,\n",
       "       2086.59793046, 2051.87477159, 1949.41271724, 1942.98765205,\n",
       "       2072.82503763, 2080.07305205, 2113.38369761, 2116.59545155,\n",
       "       2192.80236694, 2190.99020449, 2188.80011527, 2146.57261543,\n",
       "       2219.37920218, 2259.15614889, 2298.69883369, 2383.00194891,\n",
       "       2380.97293646, 2401.19981991, 2427.39034216, 2437.35779808,\n",
       "       2482.68717404, 2482.20654988, 2528.30341494, 2582.73001468,\n",
       "       2590.72738785, 2678.4573168 , 2828.25422232, 2716.86146934,\n",
       "       2642.61260587, 2648.98151657, 2705.8963811 , 2718.79085458,\n",
       "       2817.22662167, 2903.32003022, 2916.60396689, 2714.18715467,\n",
       "       2763.54062005, 2509.73845901, 2708.55148212, 2790.39555173,\n",
       "       2841.82473251, 2955.21634023, 2762.00605796, 2953.78568325])"
      ]
     },
     "execution_count": 21,
     "metadata": {},
     "output_type": "execute_result"
    }
   ],
   "source": [
    "yhat=ARIMA.predict(statistical_model,params=model_fit.params, typ='levels')\n",
    "yhat"
   ]
  },
  {
   "cell_type": "code",
   "execution_count": 22,
   "metadata": {},
   "outputs": [
    {
     "data": {
      "text/plain": [
       "2.9654641829520543"
      ]
     },
     "execution_count": 22,
     "metadata": {},
     "output_type": "execute_result"
    }
   ],
   "source": [
    "mape_stat=100*sum(abs((analysis_frame.Close[1:]-yhat)/analysis_frame.Close[1:]))/212\n",
    "mape_stat"
   ]
  },
  {
   "cell_type": "code",
   "execution_count": 23,
   "metadata": {},
   "outputs": [
    {
     "data": {
      "text/plain": [
       "61.00257382712706"
      ]
     },
     "execution_count": 23,
     "metadata": {},
     "output_type": "execute_result"
    }
   ],
   "source": [
    "diff_stat=np.sqrt(sum((analysis_frame.Close[1:]-yhat)**2)/212)\n",
    "diff_stat"
   ]
  },
  {
   "cell_type": "code",
   "execution_count": null,
   "metadata": {},
   "outputs": [],
   "source": []
  }
 ],
 "metadata": {
  "kernelspec": {
   "display_name": "Python 3",
   "language": "python",
   "name": "python3"
  },
  "language_info": {
   "codemirror_mode": {
    "name": "ipython",
    "version": 3
   },
   "file_extension": ".py",
   "mimetype": "text/x-python",
   "name": "python",
   "nbconvert_exporter": "python",
   "pygments_lexer": "ipython3",
   "version": "3.7.4"
  }
 },
 "nbformat": 4,
 "nbformat_minor": 2
}
